{
 "cells": [
  {
   "cell_type": "code",
   "execution_count": 29,
   "metadata": {
    "pycharm": {
     "is_executing": false,
     "name": "#%%\n"
    }
   },
   "outputs": [
    {
     "name": "stdout",
     "text": [
      "Training Set Mean Asolute Error: 135313.44\n",
      "Test Set Mean Asolute Error: 157459.84\n"
     ],
     "output_type": "stream"
    }
   ],
   "source": [
    "import pandas as pd\n",
    "from sklearn.model_selection import train_test_split\n",
    "from sklearn import ensemble\n",
    "from sklearn.metrics import mean_absolute_error\n",
    "\n",
    "# read in data set to pandas data frame\n",
    "# https://www.kaggle.com/anthonypino/melbourne-housing-market\n",
    "df = pd.read_csv('~/data/melbourne-housing-market/Melbourne_housing_FULL.csv')\n",
    "# df.head(10)\n",
    "\n",
    "# remove unneeded columns\n",
    "del df['Address']\n",
    "del df['Method']\n",
    "# del df['SellerG']\n",
    "del df['Date']\n",
    "del df['Postcode']\n",
    "del df['Lattitude']\n",
    "del df['Longtitude']\n",
    "del df['Regionname']\n",
    "del df['Propertycount']\n",
    "\n",
    "# show record 100\n",
    "df.iloc[100]\n",
    "\n",
    "# Drop rows with empty values\n",
    "df.dropna(axis=0, how='any', thresh=None, subset=None, inplace=True)\n",
    "\n",
    "# \"One Hot\" non numeric features\n",
    "df = pd.get_dummies(df, columns=['Suburb', 'CouncilArea', 'Type', 'SellerG'])\n",
    "\n",
    "# assign X any y variables\n",
    "X = df.drop('Price', axis=1)\n",
    "y = df['Price']\n",
    "\n",
    "\n",
    "# split data into test and train 70/30 split, and shuffle\n",
    "X_train, X_test, y_train, y_test = train_test_split(X, y, test_size=.3, shuffle=True)\n",
    "\n",
    "\n",
    "# set up algorithm\n",
    "model = ensemble.GradientBoostingRegressor(\n",
    "    n_estimators = 150,\n",
    "    learning_rate = .1,\n",
    "    max_depth = 5,\n",
    "    min_samples_split = 4,\n",
    "    min_samples_leaf = 6,\n",
    "    max_features = .6,\n",
    "    loss = 'huber'\n",
    ")\n",
    "\n",
    "# run model on training data\n",
    "model.fit(X_train, y_train)\n",
    "\n",
    "# check model accuracy; up to 2 decimal places\n",
    "mae_train = mean_absolute_error(y_train, model.predict(X_train)) \n",
    "print (\"Training Set Mean Asolute Error: %.2f\" % mae_train)\n",
    "\n",
    "mae_test = mean_absolute_error(y_test, model.predict(X_test))\n",
    "print (\"Test Set Mean Asolute Error: %.2f\" % mae_test)"
   ]
  },
  {
   "cell_type": "code",
   "execution_count": 29,
   "outputs": [],
   "source": [],
   "metadata": {
    "collapsed": false,
    "pycharm": {
     "name": "#%%\n",
     "is_executing": false
    }
   }
  }
 ],
 "metadata": {
  "kernelspec": {
   "display_name": "Python 3",
   "language": "python",
   "name": "python3"
  },
  "language_info": {
   "codemirror_mode": {
    "name": "ipython",
    "version": 3
   },
   "file_extension": ".py",
   "mimetype": "text/x-python",
   "name": "python",
   "nbconvert_exporter": "python",
   "pygments_lexer": "ipython3",
   "version": "3.6.6"
  },
  "pycharm": {
   "stem_cell": {
    "cell_type": "raw",
    "source": [],
    "metadata": {
     "collapsed": false
    }
   }
  }
 },
 "nbformat": 4,
 "nbformat_minor": 4
}